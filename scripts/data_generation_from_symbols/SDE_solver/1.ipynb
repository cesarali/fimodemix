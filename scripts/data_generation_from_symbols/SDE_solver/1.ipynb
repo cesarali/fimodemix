{
 "cells": [
  {
   "cell_type": "code",
   "execution_count": null,
   "metadata": {},
   "outputs": [],
   "source": [
    "from wienerfm.data_generation.SDE_solver.load_to_python import get_np_sde_data\n",
    "import numpy as np"
   ]
  },
  {
   "cell_type": "code",
   "execution_count": null,
   "metadata": {},
   "outputs": [],
   "source": [
    "\n",
    "DATA_PATH = \"/home/cvejoski/Projects/FoundationModels/Wiener-Procs-FM/data-test/state_sde/data/noinv/dim-1/1\"\n",
    "obs_values = get_np_sde_data(f\"{DATA_PATH}/obs_values.h5\")[\"data\"]\n",
    "obs_times = get_np_sde_data(f\"{DATA_PATH}/obs_times.h5\")[\"data\"]\n",
    "drifts = get_np_sde_data(f\"{DATA_PATH}/drift_functions_at_hypercube.h5\")[\"data\"]\n",
    "hypercube_locations = get_np_sde_data(f\"{DATA_PATH}/hypercube_locations.h5\")[\"data\"]\n",
    "f_strs = get_np_sde_data(f\"{DATA_PATH}/f_strs.h5\")[\"data\"]\n",
    "g_strs = get_np_sde_data(f\"{DATA_PATH}/g_strs.h5\")[\"data\"]"
   ]
  },
  {
   "cell_type": "code",
   "execution_count": null,
   "metadata": {},
   "outputs": [],
   "source": [
    "i=0\n",
    "\n",
    "obs_time = obs_times[i]\n",
    "h_locations = hypercube_locations[i]"
   ]
  },
  {
   "cell_type": "code",
   "execution_count": null,
   "metadata": {},
   "outputs": [],
   "source": [
    "min_loc = np.min(obs_values[i])\n",
    "max_loc = np.max(obs_values[i])\n",
    "x0 = np.linspace(min_loc, max_loc, 1000)"
   ]
  },
  {
   "cell_type": "code",
   "execution_count": null,
   "metadata": {},
   "outputs": [],
   "source": [
    "import matplotlib.pyplot as plt\n",
    "\n",
    "for i in range(150):\n",
    "\n",
    "    plt.scatter(hypercube_locations[i], drifts[i])\n",
    "    plt.title(f\"{i}:{f_strs[i]}\")\n",
    "    plt.show()\n",
    "# plt.plot(h_locations, drifts[i])\n",
    "# plt.plot(h_locations, f1(h_locations))\n",
    "\n",
    "# plt.plot(x0, f1(x0))\n",
    "plt.xlabel('Time')\n",
    "plt.ylabel('Drift')\n",
    "plt.title('Drift Plot')\n",
    "\n",
    "plt.show()"
   ]
  },
  {
   "cell_type": "code",
   "execution_count": null,
   "metadata": {},
   "outputs": [],
   "source": [
    "def f1(x_0):\n",
    "   return 0.1467 * x_0 * (0.7433 * np.sin(-0.8301 + 0.6568 * x_0) + -1.5544 * (0.4010 + -1 * x_0)**2)\n",
    "\n",
    "f1(-4.225171)\n"
   ]
  },
  {
   "cell_type": "code",
   "execution_count": null,
   "metadata": {},
   "outputs": [],
   "source": [
    "f_strs[i]"
   ]
  },
  {
   "cell_type": "code",
   "execution_count": null,
   "metadata": {},
   "outputs": [],
   "source": [
    "g"
   ]
  },
  {
   "cell_type": "code",
   "execution_count": null,
   "metadata": {},
   "outputs": [],
   "source": [
    "f_strs[500:1000]"
   ]
  },
  {
   "cell_type": "code",
   "execution_count": null,
   "metadata": {},
   "outputs": [],
   "source": []
  }
 ],
 "metadata": {
  "kernelspec": {
   "display_name": "fim",
   "language": "python",
   "name": "python3"
  },
  "language_info": {
   "codemirror_mode": {
    "name": "ipython",
    "version": 3
   },
   "file_extension": ".py",
   "mimetype": "text/x-python",
   "name": "python",
   "nbconvert_exporter": "python",
   "pygments_lexer": "ipython3",
   "version": "3.10.12"
  }
 },
 "nbformat": 4,
 "nbformat_minor": 2
}
