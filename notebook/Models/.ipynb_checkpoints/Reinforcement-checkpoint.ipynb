{
 "cells": [
  {
   "cell_type": "code",
   "execution_count": 21,
   "id": "cd5da188-8199-4ad1-b95c-8e367d012d41",
   "metadata": {},
   "outputs": [
    {
     "name": "stdout",
     "output_type": "stream",
     "text": [
      "Initial state: [ 0.0339111   0.00154158 -0.04285301  0.01215115]\n"
     ]
    },
    {
     "ename": "ValueError",
     "evalue": "too many values to unpack (expected 4)",
     "output_type": "error",
     "traceback": [
      "\u001b[1;31m---------------------------------------------------------------------------\u001b[0m",
      "\u001b[1;31mValueError\u001b[0m                                Traceback (most recent call last)",
      "Cell \u001b[1;32mIn[21], line 53\u001b[0m\n\u001b[0;32m     51\u001b[0m \u001b[38;5;28;01mwhile\u001b[39;00m \u001b[38;5;129;01mnot\u001b[39;00m done:\n\u001b[0;32m     52\u001b[0m     action \u001b[38;5;241m=\u001b[39m select_action(state)\n\u001b[1;32m---> 53\u001b[0m     next_state, reward, done, _ \u001b[38;5;241m=\u001b[39m env\u001b[38;5;241m.\u001b[39mstep(action)\n\u001b[0;32m     55\u001b[0m     \u001b[38;5;66;03m# Debugging: Print state transition\u001b[39;00m\n\u001b[0;32m     56\u001b[0m     \u001b[38;5;28mprint\u001b[39m(\u001b[38;5;124mf\u001b[39m\u001b[38;5;124m\"\u001b[39m\u001b[38;5;124mState: \u001b[39m\u001b[38;5;132;01m{\u001b[39;00mstate\u001b[38;5;132;01m}\u001b[39;00m\u001b[38;5;124m, Action: \u001b[39m\u001b[38;5;132;01m{\u001b[39;00maction\u001b[38;5;132;01m}\u001b[39;00m\u001b[38;5;124m, Reward: \u001b[39m\u001b[38;5;132;01m{\u001b[39;00mreward\u001b[38;5;132;01m}\u001b[39;00m\u001b[38;5;124m, Next State: \u001b[39m\u001b[38;5;132;01m{\u001b[39;00mnext_state\u001b[38;5;132;01m}\u001b[39;00m\u001b[38;5;124m\"\u001b[39m)\n",
      "\u001b[1;31mValueError\u001b[0m: too many values to unpack (expected 4)"
     ]
    }
   ],
   "source": [
    "import numpy as np\n",
    "import gym\n",
    "import torch\n",
    "import torch.nn as nn\n",
    "import torch.optim as optim\n",
    "\n",
    "# Define the Actor-Critic network\n",
    "class ActorCritic(nn.Module):\n",
    "    def __init__(self, input_dim, output_dim):\n",
    "        super(ActorCritic, self).__init__()\n",
    "        self.fc1 = nn.Linear(input_dim, 128)\n",
    "        self.fc2 = nn.Linear(128, 128)\n",
    "        self.policy_head = nn.Linear(128, output_dim)\n",
    "        self.value_head = nn.Linear(128, 1)\n",
    "\n",
    "    def forward(self, x):\n",
    "        x = torch.relu(self.fc1(x))\n",
    "        x = torch.relu(self.fc2(x))\n",
    "        policy = torch.softmax(self.policy_head(x), dim=-1)\n",
    "        value = self.value_head(x)\n",
    "        return policy, value\n",
    "\n",
    "# Hyperparameters\n",
    "learning_rate = 0.001\n",
    "num_episodes = 1000\n",
    "gamma = 0.99  # Discount factor\n",
    "\n",
    "# Initialize environment and model\n",
    "env = gym.make('CartPole-v1')\n",
    "input_dim = env.observation_space.shape[0]\n",
    "output_dim = env.action_space.n\n",
    "model = ActorCritic(input_dim, output_dim)\n",
    "optimizer = optim.Adam(model.parameters(), lr=learning_rate)\n",
    "\n",
    "# Function to select action based on policy\n",
    "def select_action(state):\n",
    "    state = torch.FloatTensor(state).unsqueeze(0)  # Add batch dimension\n",
    "    policy, _ = model(state)\n",
    "    action = np.random.choice(output_dim, p=policy.detach().numpy()[0])  # Use the first (and only) batch\n",
    "    return action\n",
    "\n",
    "# Training loop\n",
    "for episode in range(num_episodes):\n",
    "    state = env.reset()[0]\n",
    "    # Debugging: Print initial state\n",
    "    print(f\"Initial state: {state}\")\n",
    "\n",
    "    done = False\n",
    "    episode_reward = 0\n",
    "\n",
    "    while not done:\n",
    "        action = select_action(state)\n",
    "        next_state, reward, done, _ = env.step(action)\n",
    "\n",
    "        # Debugging: Print state transition\n",
    "        print(f\"State: {state}, Action: {action}, Reward: {reward}, Next State: {next_state}\")\n",
    "\n",
    "        # Convert to tensors\n",
    "        state_tensor = torch.FloatTensor(state).unsqueeze(0)\n",
    "        next_state_tensor = torch.FloatTensor(next_state).unsqueeze(0)\n",
    "        reward_tensor = torch.FloatTensor([reward])\n",
    "\n",
    "        # Get value estimates\n",
    "        _, value = model(state_tensor)\n",
    "        _, next_value = model(next_state_tensor)\n",
    "\n",
    "        # Calculate advantage\n",
    "        advantage = reward_tensor + (1 - done) * gamma * next_value - value\n",
    "\n",
    "        # Update policy (actor)\n",
    "        policy, _ = model(state_tensor)\n",
    "        policy_loss = -torch.log(policy[0, action]) * advantage.detach()  # Use first batch item\n",
    "        \n",
    "        # Update value function (critic)\n",
    "        value_loss = advantage.pow(2)\n",
    "\n",
    "        # Total loss\n",
    "        optimizer.zero_grad()\n",
    "        (policy_loss + value_loss).backward()\n",
    "        optimizer.step()\n",
    "\n",
    "        state = next_state\n",
    "        episode_reward += reward\n",
    "\n",
    "    if episode % 100 == 0:\n",
    "        print(f'Episode {episode}, Reward: {episode_reward}')\n",
    "\n",
    "env.close()\n"
   ]
  },
  {
   "cell_type": "code",
   "execution_count": 17,
   "id": "b9a372c7-239f-42ac-8cb0-5a6d25c0b102",
   "metadata": {},
   "outputs": [
    {
     "data": {
      "text/plain": [
       "(array([ 0.03727205,  0.00309066, -0.02891434, -0.03104826], dtype=float32),\n",
       " {})"
      ]
     },
     "execution_count": 17,
     "metadata": {},
     "output_type": "execute_result"
    }
   ],
   "source": [
    "state\n"
   ]
  }
 ],
 "metadata": {
  "kernelspec": {
   "display_name": "Python 3 (ipykernel)",
   "language": "python",
   "name": "python3"
  },
  "language_info": {
   "codemirror_mode": {
    "name": "ipython",
    "version": 3
   },
   "file_extension": ".py",
   "mimetype": "text/x-python",
   "name": "python",
   "nbconvert_exporter": "python",
   "pygments_lexer": "ipython3",
   "version": "3.11.9"
  }
 },
 "nbformat": 4,
 "nbformat_minor": 5
}
