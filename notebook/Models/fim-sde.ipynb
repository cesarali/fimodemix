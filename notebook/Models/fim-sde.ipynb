{
 "cells": [
  {
   "cell_type": "code",
   "execution_count": 1,
   "metadata": {},
   "outputs": [],
   "source": [
    "import os\n",
    "import time\n",
    "\n",
    "import torch\n",
    "import shutil\n",
    "import numpy as np\n",
    "import torch.nn as nn\n",
    "\n",
    "from pathlib import Path\n",
    "import pytorch_lightning as pl\n",
    "from dataclasses import dataclass\n",
    "from pytorch_lightning import Trainer\n",
    "from torch.utils.data import Dataset, DataLoader\n",
    "from pytorch_lightning.callbacks import ModelCheckpoint\n",
    "from pytorch_lightning.loggers import TensorBoardLogger"
   ]
  },
  {
   "cell_type": "markdown",
   "metadata": {},
   "source": [
    "# Utils"
   ]
  },
  {
   "cell_type": "code",
   "execution_count": 2,
   "metadata": {},
   "outputs": [],
   "source": [
    "from fimodemix import results_path\n",
    "\n",
    "class ExperimentsFiles:\n",
    "    \"\"\"\n",
    "    \"\"\"\n",
    "    def __init__(self,experiment_dir=None,experiment_indentifier=None,delete=False):\n",
    "        self.delete = delete\n",
    "        self.define_experiment_folder(experiment_dir,experiment_indentifier)\n",
    "        self.create_directories()\n",
    "\n",
    "    def define_experiment_folder(self,experiment_dir=None,experiment_indentifier=None):\n",
    "        if experiment_dir is None:\n",
    "            results_dir = str(results_path)\n",
    "            if experiment_indentifier is None:\n",
    "                experiment_indentifier = str(int(time.time()))\n",
    "            self.experiment_dir = os.path.join(results_dir, experiment_indentifier)        \n",
    "        self.tensorboard_dir = os.path.join(self.experiment_dir, \"logs\")\n",
    "        self.checkpoints_dir = os.path.join(self.experiment_dir, \"checkpoints\")\n",
    "    \n",
    "    def create_directories(self):\n",
    "        if not Path(self.experiment_dir).exists():\n",
    "            os.makedirs(self.experiment_dir)\n",
    "        else:\n",
    "            if self.delete:\n",
    "                shutil.rmtree(self.experiment_dir)\n",
    "                os.makedirs(self.experiment_dir)\n",
    "            else:\n",
    "                raise Exception(\"Folder Exist no Experiments Created Set Delete to True\")\n",
    "            \n",
    "        if not os.path.isdir(self.tensorboard_dir):\n",
    "            os.makedirs(self.tensorboard_dir)\n",
    "        \n",
    "        if not os.path.isdir(self.checkpoints_dir):\n",
    "            os.makedirs(self.checkpoints_dir)"
   ]
  },
  {
   "cell_type": "markdown",
   "metadata": {},
   "source": [
    "# Parameters"
   ]
  },
  {
   "cell_type": "code",
   "execution_count": 3,
   "metadata": {},
   "outputs": [],
   "source": [
    "@dataclass\n",
    "class ModelParams:\n",
    "    #model files\n",
    "    experiment_indentifier:str = \"test\"\n",
    "\n",
    "    #data\n",
    "    data_name:str = \"lorenz63_random_parameters\"\n",
    "    data_dir:str = None\n",
    "\n",
    "    batch_size: int = 32\n",
    "    seq_length: int = 10\n",
    "\n",
    "    #model\n",
    "    input_size: int = 1  # Original input size\n",
    "    n_heads: int = 4\n",
    "    hidden_dim: int = 64\n",
    "    output_size: int = 1\n",
    "\n",
    "    #training\n",
    "    num_epochs: int = 10\n",
    "    learning_rate: float = 0.001\n",
    "    embed_dim: int = 8  # New embedding dimension"
   ]
  },
  {
   "cell_type": "markdown",
   "metadata": {},
   "source": [
    "# Sample Model"
   ]
  },
  {
   "cell_type": "code",
   "execution_count": 4,
   "metadata": {},
   "outputs": [],
   "source": [
    "from matplotlib import pyplot as plt\n",
    "\n",
    "# Function to plot paths\n",
    "def plot_lorenz_paths(paths):\n",
    "    fig = plt.figure(figsize=(12, 8))\n",
    "    ax = fig.add_subplot(111, projection='3d')\n",
    "\n",
    "    for i, path in enumerate(paths):\n",
    "        ax.plot(path[:, 0].numpy(), path[:, 1].numpy(), path[:, 2].numpy(), label=f'Path {i + 1}')\n",
    "\n",
    "    ax.set_xlabel('X')\n",
    "    ax.set_ylabel('Y')\n",
    "    ax.set_zlabel('Z')\n",
    "    ax.set_title('Lorenz 63 Model Paths with Diffusion')\n",
    "    ax.legend()\n",
    "    plt.show()"
   ]
  },
  {
   "cell_type": "markdown",
   "metadata": {},
   "source": [
    "# Data Loader"
   ]
  },
  {
   "cell_type": "code",
   "execution_count": 5,
   "metadata": {},
   "outputs": [],
   "source": [
    "class TimeSeriesDataset(Dataset):\n",
    "    def __init__(self, data, targets, seq_length):\n",
    "        self.X = []\n",
    "        self.y = []\n",
    "        for i in range(len(data) - seq_length):\n",
    "            self.X.append(data[i:i + seq_length])\n",
    "            self.y.append(targets[i + seq_length])\n",
    "        self.X = np.array(self.X)\n",
    "        self.y = np.array(self.y)\n",
    "\n",
    "    def __len__(self):\n",
    "        return len(self.X)\n",
    "\n",
    "    def __getitem__(self, idx):\n",
    "        return torch.FloatTensor(self.X[idx]), torch.FloatTensor([self.y[idx]])"
   ]
  },
  {
   "cell_type": "markdown",
   "metadata": {},
   "source": [
    "# Model"
   ]
  },
  {
   "cell_type": "code",
   "execution_count": 6,
   "metadata": {},
   "outputs": [],
   "source": [
    "class TimeSeriesTransformer(pl.LightningModule):\n",
    "\n",
    "    def __init__(self, input_size, n_heads, hidden_dim, output_size, embed_dim):\n",
    "        super(TimeSeriesTransformer, self).__init__()\n",
    "\n",
    "        self.embedding = nn.Linear(input_size, embed_dim)  # Transform input to embed_dim\n",
    "        assert embed_dim % n_heads == 0, \"embed_dim must be divisible by n_heads\"\n",
    "        \n",
    "        self.attention = nn.MultiheadAttention(embed_dim=embed_dim, num_heads=n_heads)\n",
    "        self.fc1 = nn.Linear(embed_dim, hidden_dim)\n",
    "        self.fc2 = nn.Linear(hidden_dim, output_size)\n",
    "        self.relu = nn.ReLU()\n",
    "        self.criterion = nn.MSELoss()\n",
    "\n",
    "    def forward(self, x):\n",
    "        x = self.embedding(x)  # Transform to (batch_size, seq_length, embed_dim)\n",
    "        x = x.permute(1, 0, 2)  # Change to (seq_length, batch_size, embed_dim)\n",
    "        \n",
    "        attn_output, _ = self.attention(x, x, x)\n",
    "        x = attn_output.permute(1, 0, 2)  # Back to (batch_size, seq_length, embed_dim)\n",
    "        x = x.mean(dim=1)  # Global average pooling\n",
    "\n",
    "        x = self.fc1(x)\n",
    "        x = self.relu(x)\n",
    "        x = self.fc2(x)\n",
    "        return x\n",
    "\n",
    "    def training_step(self, batch, batch_idx):\n",
    "        inputs, targets = batch\n",
    "        outputs = self.forward(inputs)\n",
    "        loss = self.criterion(outputs, targets)\n",
    "        self.log('train_loss', loss)\n",
    "        return loss\n",
    "\n",
    "    def configure_optimizers(self):\n",
    "        return torch.optim.Adam(self.parameters(), lr=0.001)"
   ]
  },
  {
   "cell_type": "markdown",
   "metadata": {},
   "source": [
    "# Run Code"
   ]
  },
  {
   "cell_type": "code",
   "execution_count": 7,
   "metadata": {},
   "outputs": [],
   "source": [
    "# Sample data generation\n",
    "def generate_data(num_samples=1000):\n",
    "    np.random.seed(0)\n",
    "    data = np.random.rand(num_samples, 1)  # 1000 time steps\n",
    "    targets = np.random.rand(num_samples)   # Corresponding targets\n",
    "    return data, targets\n",
    "\n",
    "data, targets = generate_data()\n",
    "\n",
    "# experiment\n",
    "experiment_files = ExperimentsFiles()\n",
    "\n",
    "# Create dataset and DataLoader using ModelParams\n",
    "params = ModelParams(seq_length=10, batch_size=32)\n",
    "dataset = TimeSeriesDataset(data=data, targets=targets, seq_length=params.seq_length)\n",
    "data_loader = DataLoader(dataset, batch_size=params.batch_size, shuffle=True)\n",
    "\n",
    "# Set up TensorBoard logger\n",
    "logger = TensorBoardLogger(experiment_files.tensorboard_dir, \n",
    "                           name=\"time_series_transformer\")\n",
    "\n",
    "# Set up Model Checkpointing\n",
    "checkpoint_callback = ModelCheckpoint(\n",
    "    monitor='train_loss',\n",
    "    dirpath=experiment_files.checkpoints_dir,\n",
    "    filename='best-checkpoint',\n",
    "    save_top_k=1,\n",
    "    mode='min',\n",
    "    save_weights_only=True,\n",
    "    every_n_train_steps=100  # Save checkpoint every 100 training steps\n",
    ")"
   ]
  },
  {
   "cell_type": "code",
   "execution_count": 8,
   "metadata": {},
   "outputs": [
    {
     "name": "stderr",
     "output_type": "stream",
     "text": [
      "GPU available: True (cuda), used: True\n",
      "TPU available: False, using: 0 TPU cores\n",
      "HPU available: False, using: 0 HPUs\n",
      "You are using a CUDA device ('NVIDIA GeForce RTX 4090 Laptop GPU') that has Tensor Cores. To properly utilize them, you should set `torch.set_float32_matmul_precision('medium' | 'high')` which will trade-off precision for performance. For more details, read https://pytorch.org/docs/stable/generated/torch.set_float32_matmul_precision.html#torch.set_float32_matmul_precision\n",
      "LOCAL_RANK: 0 - CUDA_VISIBLE_DEVICES: [0]\n",
      "\n",
      "  | Name      | Type               | Params | Mode \n",
      "---------------------------------------------------------\n",
      "0 | embedding | Linear             | 16     | train\n",
      "1 | attention | MultiheadAttention | 288    | train\n",
      "2 | fc1       | Linear             | 576    | train\n",
      "3 | fc2       | Linear             | 65     | train\n",
      "4 | relu      | ReLU               | 0      | train\n",
      "5 | criterion | MSELoss            | 0      | train\n",
      "---------------------------------------------------------\n",
      "945       Trainable params\n",
      "0         Non-trainable params\n",
      "945       Total params\n",
      "0.004     Total estimated model params size (MB)\n",
      "7         Modules in train mode\n",
      "0         Modules in eval mode\n",
      "c:\\Users\\cesar\\anaconda3\\envs\\fimode\\Lib\\site-packages\\pytorch_lightning\\trainer\\connectors\\data_connector.py:424: The 'train_dataloader' does not have many workers which may be a bottleneck. Consider increasing the value of the `num_workers` argument` to `num_workers=19` in the `DataLoader` to improve performance.\n",
      "c:\\Users\\cesar\\anaconda3\\envs\\fimode\\Lib\\site-packages\\pytorch_lightning\\loops\\fit_loop.py:298: The number of training batches (31) is smaller than the logging interval Trainer(log_every_n_steps=50). Set a lower value for log_every_n_steps if you want to see logs for the training epoch.\n"
     ]
    },
    {
     "name": "stdout",
     "output_type": "stream",
     "text": [
      "Epoch 9: 100%|██████████| 31/31 [00:00<00:00, 173.12it/s, v_num=0]"
     ]
    },
    {
     "name": "stderr",
     "output_type": "stream",
     "text": [
      "`Trainer.fit` stopped: `max_epochs=10` reached.\n"
     ]
    },
    {
     "name": "stdout",
     "output_type": "stream",
     "text": [
      "Epoch 9: 100%|██████████| 31/31 [00:00<00:00, 172.15it/s, v_num=0]\n"
     ]
    }
   ],
   "source": [
    "# Instantiate the model and train\n",
    "model = TimeSeriesTransformer(\n",
    "    input_size=params.input_size,\n",
    "    n_heads=params.n_heads,\n",
    "    hidden_dim=params.hidden_dim,\n",
    "    output_size=params.output_size,\n",
    "    embed_dim=params.embed_dim\n",
    ")\n",
    "\n",
    "trainer = Trainer(\n",
    "    max_epochs=params.num_epochs,\n",
    "    logger=logger,\n",
    "    callbacks=[checkpoint_callback]\n",
    ")\n",
    "\n",
    "trainer.fit(model, data_loader)"
   ]
  }
 ],
 "metadata": {
  "kernelspec": {
   "display_name": "fimode",
   "language": "python",
   "name": "python3"
  },
  "language_info": {
   "codemirror_mode": {
    "name": "ipython",
    "version": 3
   },
   "file_extension": ".py",
   "mimetype": "text/x-python",
   "name": "python",
   "nbconvert_exporter": "python",
   "pygments_lexer": "ipython3",
   "version": "3.11.9"
  }
 },
 "nbformat": 4,
 "nbformat_minor": 2
}
