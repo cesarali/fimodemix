{
 "cells": [
  {
   "cell_type": "code",
   "execution_count": 2,
   "metadata": {},
   "outputs": [],
   "source": [
    "import yaml\n",
    "import numpy as np\n",
    "from dataclasses import dataclass, field\n",
    "\n",
    "@dataclass\n",
    "class OneCompartmentModelParams:\n",
    "    name_str: str = \"one_compartment\"\n",
    "    N: int = 1000\n",
    "    t_obs: np.ndarray = field(default_factory=lambda: np.array([0.5, 1, 2, 4, 8, 16, 24]))\n",
    "    D: float = 100.0\n",
    "    route: str = 'iv_bolus'\n",
    "    fe: dict = field(default_factory=lambda: {'V': 20, 'CL': 3})\n",
    "    sd_re: dict = field(default_factory=lambda: {'V': 0.4, 'CL': 0.3})\n",
    "    sd_ruv: float = 0.2\n",
    "    num_hypercubes_points: int = 1024\n",
    "\n",
    "def load_one_compartment_params_from_yaml(yaml_file: str):\n",
    "    with open(yaml_file, 'r') as file:\n",
    "        data = yaml.safe_load(file)\n",
    "        \n",
    "    instances = []\n",
    "    for params in data['compartment_instances']:\n",
    "        # Convert t_obs to numpy array\n",
    "        params['t_obs'] = np.array(params['t_obs'])\n",
    "        \n",
    "        # Create an instance of OneCompartmentModelParams with the loaded values\n",
    "        instance = OneCompartmentModelParams(**params)\n",
    "        instances.append(instance)\n",
    "    \n",
    "    return instances\n"
   ]
  },
  {
   "cell_type": "code",
   "execution_count": null,
   "metadata": {},
   "outputs": [],
   "source": []
  }
 ],
 "metadata": {
  "kernelspec": {
   "display_name": "fimode",
   "language": "python",
   "name": "python3"
  },
  "language_info": {
   "codemirror_mode": {
    "name": "ipython",
    "version": 3
   },
   "file_extension": ".py",
   "mimetype": "text/x-python",
   "name": "python",
   "nbconvert_exporter": "python",
   "pygments_lexer": "ipython3",
   "version": "3.11.9"
  }
 },
 "nbformat": 4,
 "nbformat_minor": 2
}
