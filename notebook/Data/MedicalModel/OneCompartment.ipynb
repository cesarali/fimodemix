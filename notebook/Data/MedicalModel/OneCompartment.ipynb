{
 "cells": [
  {
   "cell_type": "code",
   "execution_count": 28,
   "metadata": {},
   "outputs": [
    {
     "name": "stdout",
     "output_type": "stream",
     "text": [
      "[[38.30078603  2.4969884 ]\n",
      " [16.19113018  2.17433246]\n",
      " [28.27266185  1.50403377]\n",
      " [40.19155823  2.38750818]\n",
      " [22.72232479  2.78375623]]\n"
     ]
    }
   ],
   "source": [
    "import numpy as np\n",
    "import pandas as pd\n",
    "from scipy.integrate import odeint\n",
    "import matplotlib.pyplot as plt\n",
    "from fimodemix.data.datasets import (\n",
    "    route_to_ids,\n",
    "    study_to_ids\n",
    ")\n",
    "\n",
    "from collections import namedtuple\n",
    "\n",
    "FIMCompartementsDatabatchTuple = namedtuple(\n",
    "    'FIMCompartementsDatabatchTuple',\n",
    "    [\n",
    "        'obs_values', 'hidden_values', 'obs_times',\n",
    "        'dosing_values', 'dosing_times', 'dosing_routes', 'dosing_covariates',\n",
    "        'diffusion_at_hypercube', 'drift_at_hypercube', 'hypercube_locations',\n",
    "        'model_parameters', 'error_parameters', 'process_label', 'process_dimension'\n",
    "    ]\n",
    ")\n",
    "\n",
    "# Set a seed for reproducibility\n",
    "np.random.seed(1)\n",
    "\n",
    "# Model definition\n",
    "N = 1000  # number of individuals (IDs)\n",
    "t_obs = np.array([0.5, 1, 2, 4, 8, 16, 24])  # sampling times\n",
    "n_obs = len(t_obs)  # number of samples per ID\n",
    "\n",
    "# Dosing scheme: i.v. bolus, single dose, flat\n",
    "D = 100  # [mg]\n",
    "route = \"iv_bolus\"\n",
    "\n",
    "# Hyperparameters\n",
    "fe = {'V': 20, 'CL': 3}  # fixed effects\n",
    "sd_re = {'V': 0.4, 'CL': 0.3}  # standard deviation of random effects\n",
    "sd_ruv = 0.2  # residual unexplained variability [mg/L]\n",
    "\n",
    "# Individual parameters (log-normally distributed)\n",
    "theta = np.zeros((N, 2))  # Matrix to hold individual parameters\n",
    "for i in range(N):\n",
    "    theta[i, 0] = fe['V'] * np.random.lognormal(mean=0, sigma=sd_re['V'])\n",
    "    theta[i, 1] = fe['CL'] * np.random.lognormal(mean=0, sigma=sd_re['CL'])\n",
    "\n",
    "print(theta[:5])  # First five individuals' parameters"
   ]
  },
  {
   "cell_type": "code",
   "execution_count": 68,
   "metadata": {},
   "outputs": [],
   "source": [
    "# ========================================\n",
    "# expressions / studies / 0 \n",
    "# parameter realization / patients / 1 <-\n",
    "# paths / occasion / 2 \n",
    "# times / 3 <- \n",
    "# dimensions / 4 <-\n",
    "\n",
    "# ODE right-hand side\n",
    "def one_compartment_vf(y, t, param):\n",
    "    V, CL = param\n",
    "    dX = - CL / V * y  # ODE equation\n",
    "    return dX\n",
    "\n",
    "# ODE right-hand side\n",
    "def one_dim_equivalent(x,t,param):\n",
    "    h_theta(x,t) = f(x,y(t),z(t)) #<-----\n",
    "    return dx\n",
    "\n",
    "def full_system(x,y,z,param):\n",
    "    dX = f(x,y,z)\n",
    "    return dX\n",
    "\n",
    "# Solving ODE and computing model prediction\n",
    "obs_values = []\n",
    "hidden_values = []\n",
    "obs_time = []\n",
    "\n",
    "dosing_values = []\n",
    "dosing_times = []\n",
    "\n",
    "for i in range(N):\n",
    "    theta_i = theta[i, :]  # Individual's parameters\n",
    "    x0 = [float(D)]  # Initial amount in plasma = dose\n",
    "    dosing_time0 = [float(0.)]  # Initial amount in plasma = dose\n",
    "\n",
    "    dosing_values.append(np.asanyarray(x0)[:])\n",
    "    dosing_times.append(np.asanyarray(dosing_time0)[:])\n",
    "    \n",
    "    # Solve ODE: amount -> concentration (amount/volume)\n",
    "    x_sol = odeint(one_compartment_vf, x0, np.concatenate([[0], t_obs]), args=(theta_i,)).squeeze()[:,None]\n",
    "    noise = np.random.normal(0, sd_ruv, size=n_obs).squeeze()[:,None]\n",
    "    hidden_values.append(x_sol[1:])\n",
    "    obs_values.append((x_sol[1:] / theta_i[0]) + noise)  # Remove time 0 and convert to concentration\n",
    "    obs_time.append(t_obs)\n",
    "\n",
    "dosing_values = np.stack(dosing_values,axis=0)\n",
    "hidden_values = np.stack(hidden_values,axis=0)"
   ]
  },
  {
   "cell_type": "code",
   "execution_count": 44,
   "metadata": {},
   "outputs": [
    {
     "data": {
      "text/plain": [
       "[<matplotlib.lines.Line2D at 0x221ea9c0690>]"
      ]
     },
     "execution_count": 44,
     "metadata": {},
     "output_type": "execute_result"
    },
    {
     "data": {
      "image/png": "[encoded data removed]",
      "text/plain": [
       "<Figure size 640x480 with 1 Axes>"
      ]
     },
     "metadata": {},
     "output_type": "display_data"
    }
   ],
   "source": [
    "plt.plot(t_obs,obs_values[0],\"o-\")\n",
    "plt.plot(t_obs,obs_values[1],\"o-\")\n",
    "plt.plot(t_obs,obs_values[2],\"o-\")"
   ]
  },
  {
   "cell_type": "code",
   "execution_count": 24,
   "metadata": {},
   "outputs": [
    {
     "data": {
      "text/plain": [
       "array([25.9113817 ,  4.54787444])"
      ]
     },
     "execution_count": 24,
     "metadata": {},
     "output_type": "execute_result"
    }
   ],
   "source": [
    "theta_i"
   ]
  },
  {
   "cell_type": "code",
   "execution_count": 25,
   "metadata": {},
   "outputs": [
    {
     "data": {
      "text/plain": [
       "array([ 0.5,  1. ,  2. ,  4. ,  8. , 16. , 24. ])"
      ]
     },
     "execution_count": 25,
     "metadata": {},
     "output_type": "execute_result"
    }
   ],
   "source": [
    "t_obs"
   ]
  },
  {
   "cell_type": "code",
   "execution_count": 26,
   "metadata": {},
   "outputs": [
    {
     "data": {
      "text/plain": [
       "array([[2.52717654],\n",
       "       [2.44612612],\n",
       "       [2.29174014],\n",
       "       [2.01158514],\n",
       "       [1.54983169],\n",
       "       [0.91997654],\n",
       "       [0.54609596]])"
      ]
     },
     "execution_count": 26,
     "metadata": {},
     "output_type": "execute_result"
    }
   ],
   "source": [
    "obs_values[0]"
   ]
  },
  {
   "cell_type": "code",
   "execution_count": null,
   "metadata": {},
   "outputs": [],
   "source": []
  }
 ],
 "metadata": {
  "kernelspec": {
   "display_name": "fimode",
   "language": "python",
   "name": "python3"
  },
  "language_info": {
   "codemirror_mode": {
    "name": "ipython",
    "version": 3
   },
   "file_extension": ".py",
   "mimetype": "text/x-python",
   "name": "python",
   "nbconvert_exporter": "python",
   "pygments_lexer": "ipython3",
   "version": "3.11.9"
  }
 },
 "nbformat": 4,
 "nbformat_minor": 2
}
