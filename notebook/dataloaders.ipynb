{
 "cells": [
  {
   "cell_type": "code",
   "execution_count": 2,
   "metadata": {},
   "outputs": [],
   "source": [
    "import os\n",
    "import sys\n",
    "import h5py\n",
    "\n",
    "import torch\n",
    "import numpy as np\n",
    "from pathlib import Path\n",
    "from matplotlib import pyplot as plt"
   ]
  },
  {
   "cell_type": "markdown",
   "metadata": {},
   "source": [
    "# READ FILES"
   ]
  },
  {
   "cell_type": "code",
   "execution_count": 3,
   "metadata": {},
   "outputs": [],
   "source": [
    "def load_h5(path: Path):\n",
    "    \"Array in .h5 is under 'data' key\"\n",
    "    arr = None\n",
    "    with h5py.File(path, \"r\") as f:\n",
    "        data = f[\"data\"][:]\n",
    "        try:\n",
    "            # Attempt to convert the data to floats\n",
    "            arr = np.array(data, dtype=\"float32\").T  # Transpose for C-order\n",
    "        except ValueError:\n",
    "            # If the conversion fails, keep the data as a string\n",
    "            arr = np.array(data, dtype=str)\n",
    "    return arr"
   ]
  },
  {
   "cell_type": "code",
   "execution_count": 7,
   "metadata": {},
   "outputs": [
    {
     "data": {
      "text/plain": [
       "['drift_functions_at_hypercube.h5',\n",
       " 'f_strs.h5',\n",
       " 'g_strs.h5',\n",
       " 'hypercube_locations.h5',\n",
       " 'init_condition_distr_parameters.h5',\n",
       " 'obs_times.h5',\n",
       " 'obs_values.h5',\n",
       " 'scaled_diffusion_functions_at_hypercube.h5']"
      ]
     },
     "execution_count": 7,
     "metadata": {},
     "output_type": "execute_result"
    }
   ],
   "source": [
    "data_dir = r\"C:\\Users\\cesar\\Desktop\\Projects\\FoundationModels\\fimodemix\\data\\state_sde_full\\expressions_3d\\dimension_1dim-3\\1\"\n",
    "\n",
    "batchdata_dir_path = Path(data_dir)\n",
    "file_names = os.listdir(data_dir)\n",
    "file_names"
   ]
  },
  {
   "cell_type": "code",
   "execution_count": 8,
   "metadata": {},
   "outputs": [],
   "source": [
    "# Load all files\n",
    "loaded_data = {}\n",
    "for file_name in file_names:\n",
    "    file_path = batchdata_dir_path / file_name\n",
    "    file_name_ = file_path.name.removesuffix(\".h5\")\n",
    "    loaded_data[file_name_] = load_h5(file_path)"
   ]
  },
  {
   "cell_type": "code",
   "execution_count": 9,
   "metadata": {},
   "outputs": [
    {
     "data": {
      "text/plain": [
       "dict_keys(['drift_functions_at_hypercube', 'f_strs', 'g_strs', 'hypercube_locations', 'init_condition_distr_parameters', 'obs_times', 'obs_values', 'scaled_diffusion_functions_at_hypercube'])"
      ]
     },
     "execution_count": 9,
     "metadata": {},
     "output_type": "execute_result"
    }
   ],
   "source": [
    "loaded_data.keys()"
   ]
  },
  {
   "cell_type": "code",
   "execution_count": 10,
   "metadata": {},
   "outputs": [],
   "source": [
    "obs_times = loaded_data['obs_times']\n",
    "obs_values =  loaded_data['obs_values']\n",
    "f_strs = loaded_data['f_strs']"
   ]
  },
  {
   "cell_type": "code",
   "execution_count": 11,
   "metadata": {},
   "outputs": [
    {
     "data": {
      "text/plain": [
       "(15, 300, 128, 3, 2)"
      ]
     },
     "execution_count": 11,
     "metadata": {},
     "output_type": "execute_result"
    }
   ],
   "source": [
    "obs_values.shape"
   ]
  },
  {
   "cell_type": "code",
   "execution_count": 16,
   "metadata": {},
   "outputs": [
    {
     "data": {
      "text/plain": [
       "array(['0.3297 * x_1', '-4.5810 * x_1',\n",
       "       'x_0 * (0.8794 + 0.0535 * x_2 + -0.9622 * x_1)'], dtype='<U98')"
      ]
     },
     "execution_count": 16,
     "metadata": {},
     "output_type": "execute_result"
    }
   ],
   "source": [
    "f_strs[:,0]"
   ]
  },
  {
   "cell_type": "code",
   "execution_count": null,
   "metadata": {},
   "outputs": [],
   "source": []
  }
 ],
 "metadata": {
  "kernelspec": {
   "display_name": "fimode",
   "language": "python",
   "name": "python3"
  },
  "language_info": {
   "codemirror_mode": {
    "name": "ipython",
    "version": 3
   },
   "file_extension": ".py",
   "mimetype": "text/x-python",
   "name": "python",
   "nbconvert_exporter": "python",
   "pygments_lexer": "ipython3",
   "version": "3.11.9"
  }
 },
 "nbformat": 4,
 "nbformat_minor": 2
}
