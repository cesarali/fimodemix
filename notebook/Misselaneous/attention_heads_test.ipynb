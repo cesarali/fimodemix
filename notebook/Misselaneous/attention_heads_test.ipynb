{
 "cells": [
  {
   "cell_type": "code",
   "execution_count": 1,
   "metadata": {},
   "outputs": [
    {
     "name": "stdout",
     "output_type": "stream",
     "text": [
      "Test passed for input_dim=128, nhead=1, hidden_dim=512\n",
      "Input shape: torch.Size([10, 2, 128])\n",
      "Output shape: torch.Size([10, 2, 128])\n",
      "\n",
      "Test passed for input_dim=128, nhead=2, hidden_dim=512\n",
      "Input shape: torch.Size([10, 2, 128])\n",
      "Output shape: torch.Size([10, 2, 128])\n",
      "\n",
      "Test passed for input_dim=128, nhead=4, hidden_dim=512\n",
      "Input shape: torch.Size([10, 2, 128])\n",
      "Output shape: torch.Size([10, 2, 128])\n",
      "\n",
      "Test passed for input_dim=128, nhead=8, hidden_dim=512\n",
      "Input shape: torch.Size([10, 2, 128])\n",
      "Output shape: torch.Size([10, 2, 128])\n",
      "\n",
      "Test passed for input_dim=128, nhead=16, hidden_dim=512\n",
      "Input shape: torch.Size([10, 2, 128])\n",
      "Output shape: torch.Size([10, 2, 128])\n",
      "\n",
      "Test passed for input_dim=128, nhead=32, hidden_dim=512\n",
      "Input shape: torch.Size([10, 2, 128])\n",
      "Output shape: torch.Size([10, 2, 128])\n",
      "\n"
     ]
    }
   ],
   "source": [
    "import torch\n",
    "import torch.nn as nn\n",
    "from torch.nn import TransformerEncoderLayer\n",
    "\n",
    "# Test TransformerEncoderLayer configuration\n",
    "def test_transformer_encoder(input_dim, nhead, hidden_dim, batch_size=2, seq_len=10):\n",
    "    try:\n",
    "        # Initialize the TransformerEncoderLayer\n",
    "        encoder_layer = TransformerEncoderLayer(d_model=input_dim, nhead=nhead, dim_feedforward=hidden_dim)\n",
    "\n",
    "        # Create random input with batch size and sequence length\n",
    "        # Input shape: (seq_len, batch_size, input_dim)\n",
    "        x = torch.rand(seq_len, batch_size, input_dim)\n",
    "\n",
    "        # Pass the input through the encoder layer\n",
    "        output = encoder_layer(x)\n",
    "\n",
    "        print(f\"Test passed for input_dim={input_dim}, nhead={nhead}, hidden_dim={hidden_dim}\")\n",
    "        print(f\"Input shape: {x.shape}\")\n",
    "        print(f\"Output shape: {output.shape}\\n\")\n",
    "\n",
    "    except Exception as e:\n",
    "        print(f\"Test failed for input_dim={input_dim}, nhead={nhead}, hidden_dim={hidden_dim}\")\n",
    "        print(f\"Error: {e}\\n\")\n",
    "\n",
    "# Test the module with different configurations\n",
    "input_dim = 128  # This is fixed\n",
    "hidden_dim = 512 # Dimension of feedforward network\n",
    "\n",
    "# Test with various nhead values\n",
    "for nhead in [1, 2, 4, 8, 16, 32]:\n",
    "    test_transformer_encoder(input_dim, nhead, hidden_dim)"
   ]
  },
  {
   "cell_type": "code",
   "execution_count": null,
   "metadata": {},
   "outputs": [],
   "source": [
    "        self.encoder_layer = TransformerEncoderLayer(d_model=input_dim, \n",
    "                                                     nhead=nhead, \n",
    "                                                     dim_feedforward=hidden_dim)"
   ]
  },
  {
   "cell_type": "code",
   "execution_count": null,
   "metadata": {},
   "outputs": [],
   "source": []
  },
  {
   "cell_type": "code",
   "execution_count": null,
   "metadata": {},
   "outputs": [],
   "source": []
  },
  {
   "cell_type": "code",
   "execution_count": null,
   "metadata": {},
   "outputs": [],
   "source": []
  }
 ],
 "metadata": {
  "kernelspec": {
   "display_name": "fimode",
   "language": "python",
   "name": "python3"
  },
  "language_info": {
   "codemirror_mode": {
    "name": "ipython",
    "version": 3
   },
   "file_extension": ".py",
   "mimetype": "text/x-python",
   "name": "python",
   "nbconvert_exporter": "python",
   "pygments_lexer": "ipython3",
   "version": "3.11.9"
  }
 },
 "nbformat": 4,
 "nbformat_minor": 2
}
